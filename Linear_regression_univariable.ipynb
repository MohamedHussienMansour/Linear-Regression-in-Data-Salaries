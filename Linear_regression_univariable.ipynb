{
 "cells": [
  {
   "cell_type": "code",
   "execution_count": 71,
   "id": "3fb98a89-d006-4ceb-8240-36f14791684d",
   "metadata": {},
   "outputs": [],
   "source": [
    "%matplotlib inline\n",
    "import numpy as np\n",
    "import pandas as pd\n",
    "import matplotlib.pyplot as plt\n",
    "\n"
   ]
  },
  {
   "cell_type": "code",
   "execution_count": 72,
   "id": "9d877125-4649-4881-a60d-5cc2a1c40fa6",
   "metadata": {},
   "outputs": [
    {
     "data": {
      "text/html": [
       "<div>\n",
       "<style scoped>\n",
       "    .dataframe tbody tr th:only-of-type {\n",
       "        vertical-align: middle;\n",
       "    }\n",
       "\n",
       "    .dataframe tbody tr th {\n",
       "        vertical-align: top;\n",
       "    }\n",
       "\n",
       "    .dataframe thead th {\n",
       "        text-align: right;\n",
       "    }\n",
       "</style>\n",
       "<table border=\"1\" class=\"dataframe\">\n",
       "  <thead>\n",
       "    <tr style=\"text-align: right;\">\n",
       "      <th></th>\n",
       "      <th>Unnamed: 0</th>\n",
       "      <th>YearsExperience</th>\n",
       "      <th>Salary</th>\n",
       "    </tr>\n",
       "  </thead>\n",
       "  <tbody>\n",
       "    <tr>\n",
       "      <th>0</th>\n",
       "      <td>0</td>\n",
       "      <td>1.2</td>\n",
       "      <td>39344.0</td>\n",
       "    </tr>\n",
       "    <tr>\n",
       "      <th>1</th>\n",
       "      <td>1</td>\n",
       "      <td>1.4</td>\n",
       "      <td>46206.0</td>\n",
       "    </tr>\n",
       "    <tr>\n",
       "      <th>2</th>\n",
       "      <td>2</td>\n",
       "      <td>1.6</td>\n",
       "      <td>37732.0</td>\n",
       "    </tr>\n",
       "    <tr>\n",
       "      <th>3</th>\n",
       "      <td>3</td>\n",
       "      <td>2.1</td>\n",
       "      <td>43526.0</td>\n",
       "    </tr>\n",
       "    <tr>\n",
       "      <th>4</th>\n",
       "      <td>4</td>\n",
       "      <td>2.3</td>\n",
       "      <td>39892.0</td>\n",
       "    </tr>\n",
       "    <tr>\n",
       "      <th>5</th>\n",
       "      <td>5</td>\n",
       "      <td>3.0</td>\n",
       "      <td>56643.0</td>\n",
       "    </tr>\n",
       "    <tr>\n",
       "      <th>6</th>\n",
       "      <td>6</td>\n",
       "      <td>3.1</td>\n",
       "      <td>60151.0</td>\n",
       "    </tr>\n",
       "    <tr>\n",
       "      <th>7</th>\n",
       "      <td>7</td>\n",
       "      <td>3.3</td>\n",
       "      <td>54446.0</td>\n",
       "    </tr>\n",
       "    <tr>\n",
       "      <th>8</th>\n",
       "      <td>8</td>\n",
       "      <td>3.3</td>\n",
       "      <td>64446.0</td>\n",
       "    </tr>\n",
       "    <tr>\n",
       "      <th>9</th>\n",
       "      <td>9</td>\n",
       "      <td>3.8</td>\n",
       "      <td>57190.0</td>\n",
       "    </tr>\n",
       "    <tr>\n",
       "      <th>10</th>\n",
       "      <td>10</td>\n",
       "      <td>4.0</td>\n",
       "      <td>63219.0</td>\n",
       "    </tr>\n",
       "    <tr>\n",
       "      <th>11</th>\n",
       "      <td>11</td>\n",
       "      <td>4.1</td>\n",
       "      <td>55795.0</td>\n",
       "    </tr>\n",
       "    <tr>\n",
       "      <th>12</th>\n",
       "      <td>12</td>\n",
       "      <td>4.1</td>\n",
       "      <td>56958.0</td>\n",
       "    </tr>\n",
       "    <tr>\n",
       "      <th>13</th>\n",
       "      <td>13</td>\n",
       "      <td>4.2</td>\n",
       "      <td>57082.0</td>\n",
       "    </tr>\n",
       "    <tr>\n",
       "      <th>14</th>\n",
       "      <td>14</td>\n",
       "      <td>4.6</td>\n",
       "      <td>61112.0</td>\n",
       "    </tr>\n",
       "    <tr>\n",
       "      <th>15</th>\n",
       "      <td>15</td>\n",
       "      <td>5.0</td>\n",
       "      <td>67939.0</td>\n",
       "    </tr>\n",
       "    <tr>\n",
       "      <th>16</th>\n",
       "      <td>16</td>\n",
       "      <td>5.2</td>\n",
       "      <td>66030.0</td>\n",
       "    </tr>\n",
       "    <tr>\n",
       "      <th>17</th>\n",
       "      <td>17</td>\n",
       "      <td>5.4</td>\n",
       "      <td>83089.0</td>\n",
       "    </tr>\n",
       "    <tr>\n",
       "      <th>18</th>\n",
       "      <td>18</td>\n",
       "      <td>6.0</td>\n",
       "      <td>81364.0</td>\n",
       "    </tr>\n",
       "    <tr>\n",
       "      <th>19</th>\n",
       "      <td>19</td>\n",
       "      <td>6.1</td>\n",
       "      <td>93941.0</td>\n",
       "    </tr>\n",
       "    <tr>\n",
       "      <th>20</th>\n",
       "      <td>20</td>\n",
       "      <td>6.9</td>\n",
       "      <td>91739.0</td>\n",
       "    </tr>\n",
       "    <tr>\n",
       "      <th>21</th>\n",
       "      <td>21</td>\n",
       "      <td>7.2</td>\n",
       "      <td>98274.0</td>\n",
       "    </tr>\n",
       "    <tr>\n",
       "      <th>22</th>\n",
       "      <td>22</td>\n",
       "      <td>8.0</td>\n",
       "      <td>101303.0</td>\n",
       "    </tr>\n",
       "    <tr>\n",
       "      <th>23</th>\n",
       "      <td>23</td>\n",
       "      <td>8.3</td>\n",
       "      <td>113813.0</td>\n",
       "    </tr>\n",
       "    <tr>\n",
       "      <th>24</th>\n",
       "      <td>24</td>\n",
       "      <td>8.8</td>\n",
       "      <td>109432.0</td>\n",
       "    </tr>\n",
       "    <tr>\n",
       "      <th>25</th>\n",
       "      <td>25</td>\n",
       "      <td>9.1</td>\n",
       "      <td>105583.0</td>\n",
       "    </tr>\n",
       "    <tr>\n",
       "      <th>26</th>\n",
       "      <td>26</td>\n",
       "      <td>9.6</td>\n",
       "      <td>116970.0</td>\n",
       "    </tr>\n",
       "    <tr>\n",
       "      <th>27</th>\n",
       "      <td>27</td>\n",
       "      <td>9.7</td>\n",
       "      <td>112636.0</td>\n",
       "    </tr>\n",
       "    <tr>\n",
       "      <th>28</th>\n",
       "      <td>28</td>\n",
       "      <td>10.4</td>\n",
       "      <td>122392.0</td>\n",
       "    </tr>\n",
       "    <tr>\n",
       "      <th>29</th>\n",
       "      <td>29</td>\n",
       "      <td>10.6</td>\n",
       "      <td>121873.0</td>\n",
       "    </tr>\n",
       "  </tbody>\n",
       "</table>\n",
       "</div>"
      ],
      "text/plain": [
       "    Unnamed: 0  YearsExperience    Salary\n",
       "0            0              1.2   39344.0\n",
       "1            1              1.4   46206.0\n",
       "2            2              1.6   37732.0\n",
       "3            3              2.1   43526.0\n",
       "4            4              2.3   39892.0\n",
       "5            5              3.0   56643.0\n",
       "6            6              3.1   60151.0\n",
       "7            7              3.3   54446.0\n",
       "8            8              3.3   64446.0\n",
       "9            9              3.8   57190.0\n",
       "10          10              4.0   63219.0\n",
       "11          11              4.1   55795.0\n",
       "12          12              4.1   56958.0\n",
       "13          13              4.2   57082.0\n",
       "14          14              4.6   61112.0\n",
       "15          15              5.0   67939.0\n",
       "16          16              5.2   66030.0\n",
       "17          17              5.4   83089.0\n",
       "18          18              6.0   81364.0\n",
       "19          19              6.1   93941.0\n",
       "20          20              6.9   91739.0\n",
       "21          21              7.2   98274.0\n",
       "22          22              8.0  101303.0\n",
       "23          23              8.3  113813.0\n",
       "24          24              8.8  109432.0\n",
       "25          25              9.1  105583.0\n",
       "26          26              9.6  116970.0\n",
       "27          27              9.7  112636.0\n",
       "28          28             10.4  122392.0\n",
       "29          29             10.6  121873.0"
      ]
     },
     "execution_count": 72,
     "metadata": {},
     "output_type": "execute_result"
    }
   ],
   "source": [
    "df=pd.read_csv(\"Salary_dataset.csv\")\n",
    "\n",
    "df"
   ]
  },
  {
   "cell_type": "code",
   "execution_count": 73,
   "id": "01893885-bae9-49f0-8251-cbb478270c0f",
   "metadata": {},
   "outputs": [],
   "source": [
    "x=df[\"YearsExperience\"]\n",
    "y=df[\"Salary\"]"
   ]
  },
  {
   "cell_type": "code",
   "execution_count": 74,
   "id": "5de0e5e4-7189-4524-8645-f57756e5020b",
   "metadata": {},
   "outputs": [],
   "source": [
    "def compute_linear(x,w,b):\n",
    "    return w*x+b"
   ]
  },
  {
   "cell_type": "code",
   "execution_count": 97,
   "id": "22a53b5f-4443-4faf-982e-17d326a1bd20",
   "metadata": {},
   "outputs": [
    {
     "data": {
      "text/plain": [
       "0      12000.0\n",
       "1      14000.0\n",
       "2      16000.0\n",
       "3      21000.0\n",
       "4      23000.0\n",
       "5      30000.0\n",
       "6      31000.0\n",
       "7      33000.0\n",
       "8      33000.0\n",
       "9      38000.0\n",
       "10     40000.0\n",
       "11     41000.0\n",
       "12     41000.0\n",
       "13     42000.0\n",
       "14     46000.0\n",
       "15     50000.0\n",
       "16     52000.0\n",
       "17     54000.0\n",
       "18     60000.0\n",
       "19     61000.0\n",
       "20     69000.0\n",
       "21     72000.0\n",
       "22     80000.0\n",
       "23     83000.0\n",
       "24     88000.0\n",
       "25     91000.0\n",
       "26     96000.0\n",
       "27     97000.0\n",
       "28    104000.0\n",
       "29    106000.0\n",
       "Name: YearsExperience, dtype: float64"
      ]
     },
     "execution_count": 97,
     "metadata": {},
     "output_type": "execute_result"
    }
   ],
   "source": [
    "\n",
    "compute_linear(x,w,b)"
   ]
  },
  {
   "cell_type": "code",
   "execution_count": 98,
   "id": "b1e2b081-93f3-4cd1-a422-6748b95fcfb0",
   "metadata": {},
   "outputs": [],
   "source": [
    "def compute_cost(x,y,w,b):\n",
    "    cost=0\n",
    "    m=x.shape[0]\n",
    "    for i in range(m):\n",
    "        cost+=(compute_linear(x[i],w,b)-y[i])**2\n",
    "    return cost/(2*m)\n",
    "    "
   ]
  },
  {
   "cell_type": "code",
   "execution_count": 99,
   "id": "002851ff-8d5a-4b04-895c-dc4297108e20",
   "metadata": {},
   "outputs": [
    {
     "name": "stdout",
     "output_type": "stream",
     "text": [
      "(30,) (30,)\n"
     ]
    }
   ],
   "source": [
    "print(x.shape,y.shape)"
   ]
  },
  {
   "cell_type": "code",
   "execution_count": 100,
   "id": "bcee4006-b282-467b-9431-7ee049971b27",
   "metadata": {},
   "outputs": [
    {
     "data": {
      "text/plain": [
       "255976172.2"
      ]
     },
     "execution_count": 100,
     "metadata": {},
     "output_type": "execute_result"
    },
    {
     "data": {
      "image/png": "[encoded data removed]",
      "text/plain": [
       "<Figure size 640x480 with 1 Axes>"
      ]
     },
     "metadata": {},
     "output_type": "display_data"
    }
   ],
   "source": [
    "\n",
    "plt.scatter(x,y)\n",
    "plt.plot(x,compute_linear(x,w,b))\n",
    "# plt.xlabel(\"inputof the data\")\n",
    "# plt.ylabel(\"output of the data\")\n",
    "compute_cost(x,y,w,b)"
   ]
  },
  {
   "cell_type": "code",
   "execution_count": 79,
   "id": "9c54b32b-65ab-46ab-8fe7-56dfaf4a2ec5",
   "metadata": {},
   "outputs": [],
   "source": [
    "def gradent_desend(x,y,w,b):\n",
    "    dj_dw=0\n",
    "    dj_db=0\n",
    "    m=x.shape[0]\n",
    "    for i in range(m):\n",
    "        dj_dw+=(compute_linear(x[i],w,b)-y[i])*x[i]\n",
    "        dj_db+=(compute_linear(x[i],w,b)-y[i])\n",
    "    return dj_dw/m,dj_db/m\n",
    "    \n",
    "        \n",
    "    "
   ]
  },
  {
   "cell_type": "code",
   "execution_count": 184,
   "id": "dabed114-c35e-4f45-824b-6a0ed3640e11",
   "metadata": {},
   "outputs": [],
   "source": [
    "w=100000\n",
    "b=0\n",
    "past_cost_values=[]\n",
    "past_w_values=[]\n",
    "past_j_values=[]\n",
    "\n",
    "\n",
    "def optimizer(x,y,w,b,iertation=1000,alpha=0.005):\n",
    "\n",
    "\n",
    "  \n",
    "    j=0\n",
    "    for i in range(iertation):\n",
    "        dj_dw,dj_db=gradent_desend(x,y,w,b)\n",
    "        w-=alpha*dj_dw\n",
    "        b-=alpha*dj_db\n",
    "        past_cost_values.append(compute_cost(x,y,w,b))\n",
    "        past_w_values.append(w)\n",
    "        past_j_values.append(j)\n",
    " \n",
    "        if (i%100==0):\n",
    "            print(\"the cost function reach to this value:\",compute_cost(x,y,w,b))\n",
    "\n",
    "            if (i!=0):\n",
    "               print(\"The cost function decease:\",past_cost_values[j]<=past_cost_values[j-1])\n",
    "        j+=1\n",
    "            \n",
    "            \n",
    "    return w,b\n",
    "    "
   ]
  },
  {
   "cell_type": "code",
   "execution_count": 185,
   "id": "83a17f9f-a18c-42ec-943b-63b0c7e64a64",
   "metadata": {},
   "outputs": [
    {
     "name": "stdout",
     "output_type": "stream",
     "text": [
      "the cost function reach to this value: 92170966548.5609\n",
      "the cost function reach to this value: 134501099.75546157\n",
      "The cost function decease: True\n",
      "the cost function reach to this value: 112410336.59286979\n",
      "The cost function decease: True\n",
      "the cost function reach to this value: 94425065.00233749\n",
      "The cost function decease: True\n",
      "the cost function reach to this value: 79782293.6410941\n",
      "The cost function decease: True\n",
      "the cost function reach to this value: 67860830.45615569\n",
      "The cost function decease: True\n",
      "the cost function reach to this value: 58154929.77904689\n",
      "The cost function decease: True\n",
      "the cost function reach to this value: 50252837.01639678\n",
      "The cost function decease: True\n",
      "the cost function reach to this value: 43819320.73523417\n",
      "The cost function decease: True\n",
      "the cost function reach to this value: 38581451.099532254\n",
      "The cost function decease: True\n",
      "11409.989483446525 11493.527785749728\n"
     ]
    },
    {
     "data": {
      "text/plain": [
       "[<matplotlib.lines.Line2D at 0x2d47a912ce0>]"
      ]
     },
     "execution_count": 185,
     "metadata": {},
     "output_type": "execute_result"
    },
    {
     "data": {
      "image/png": "[encoded data removed]",
      "text/plain": [
       "<Figure size 640x480 with 1 Axes>"
      ]
     },
     "metadata": {},
     "output_type": "display_data"
    }
   ],
   "source": [
    "w,b=optimizer(x,y,w,b)\n",
    "print(w,b)\n",
    "plt.scatter(x,y)\n",
    "plt.plot(x,compute_linear(x,w,b))\n",
    "# plt.xlabel(\"inputof the data\")\n",
    "# plt.ylabel(\"output of the data\")"
   ]
  },
  {
   "cell_type": "code",
   "execution_count": 186,
   "id": "9d2ca4dd-5b3e-4748-8781-640e6af76428",
   "metadata": {},
   "outputs": [
    {
     "data": {
      "text/plain": [
       "[<matplotlib.lines.Line2D at 0x2d475d1de70>]"
      ]
     },
     "execution_count": 186,
     "metadata": {},
     "output_type": "execute_result"
    },
    {
     "data": {
      "image/png": "[encoded data removed]",
      "text/plain": [
       "<Figure size 640x480 with 1 Axes>"
      ]
     },
     "metadata": {},
     "output_type": "display_data"
    }
   ],
   "source": [
    "values_cost=[]\n",
    "values_w=[]\n",
    "for W in range(-100000,100000):\n",
    "    values_w.append(W)\n",
    "    values_cost.append(compute_cost(x,y,W,b=0))\n",
    "plt.plot(values_w,values_cost)\n",
    "plt.plot(past_w_values,past_cost_values)"
   ]
  },
  {
   "cell_type": "code",
   "execution_count": null,
   "id": "0099e849-28f2-4267-b260-24b913e2cc18",
   "metadata": {},
   "outputs": [],
   "source": []
  },
  {
   "cell_type": "code",
   "execution_count": 187,
   "id": "69c70e11-054a-4ba0-aa17-11beddb99b9d",
   "metadata": {},
   "outputs": [
    {
     "data": {
      "text/plain": [
       "[<matplotlib.lines.Line2D at 0x2d479231300>]"
      ]
     },
     "execution_count": 187,
     "metadata": {},
     "output_type": "execute_result"
    },
    {
     "data": {
      "image/png": "[encoded data removed]",
      "text/plain": [
       "<Figure size 640x480 with 1 Axes>"
      ]
     },
     "metadata": {},
     "output_type": "display_data"
    }
   ],
   "source": [
    "plt.plot(past_j_values,past_cost_values)\n"
   ]
  },
  {
   "cell_type": "code",
   "execution_count": null,
   "id": "0c548d12-2cf6-49f3-8fa3-52bd6ba2c4d4",
   "metadata": {},
   "outputs": [],
   "source": []
  }
 ],
 "metadata": {
  "kernelspec": {
   "display_name": "Python 3 (ipykernel)",
   "language": "python",
   "name": "python3"
  },
  "language_info": {
   "codemirror_mode": {
    "name": "ipython",
    "version": 3
   },
   "file_extension": ".py",
   "mimetype": "text/x-python",
   "name": "python",
   "nbconvert_exporter": "python",
   "pygments_lexer": "ipython3",
   "version": "3.10.6"
  }
 },
 "nbformat": 4,
 "nbformat_minor": 5
}
